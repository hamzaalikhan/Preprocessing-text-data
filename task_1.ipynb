{
 "cells": [
  {
   "cell_type": "markdown",
   "metadata": {},
   "source": [
    "## Task 1 Reconstruct the Original Meeting Transcripts\n",
    "\n",
    "Libraries used:\n",
    "* bs4 for using beautiful soup in order to parse files.\n",
    "* re for regular expressions\n",
    "* os to join file path\n",
    "\n",
    "\n",
    "## 1. Introduction\n",
    "\n",
    "This project comprises of 2 tasks; this jupyter notebook contains task 1. There are 139 xml files for topic, 589 xml files for words and segments. Our task here is to reconstruct the original meeting transcripts and add them to a text files for each topic by reading in the correct values from the xml files. The scenario chose for this project is as follows:\n",
    "\n",
    "#### Scenario 1:\n",
    " \n",
    "* A linebreak after each <nite: child> tag of the topic files.\n",
    "* A linebreak after each segment.\n",
    "* 10 '*' after each root topic (i.e. '\\n**********\\n')."
   ]
  },
  {
   "cell_type": "markdown",
   "metadata": {},
   "source": [
    "## 2.  Import libraries "
   ]
  },
  {
   "cell_type": "code",
   "execution_count": 1,
   "metadata": {},
   "outputs": [],
   "source": [
    "#Importing libraries\n",
    "from bs4 import BeautifulSoup as bsoup\n",
    "import re\n",
    "import os"
   ]
  },
  {
   "cell_type": "markdown",
   "metadata": {},
   "source": [
    "## 3.  Defining file path "
   ]
  },
  {
   "cell_type": "code",
   "execution_count": 2,
   "metadata": {},
   "outputs": [],
   "source": [
    "#Defining file path\n",
    "theTopics = \"./topics/\"\n",
    "theSegments = \"./segments/\"\n",
    "theWords= \"./words/\""
   ]
  },
  {
   "cell_type": "markdown",
   "metadata": {},
   "source": [
    "## 4.  Functions"
   ]
  },
  {
   "cell_type": "markdown",
   "metadata": {},
   "source": [
    "### 4.1  Function to create word dictionary"
   ]
  },
  {
   "cell_type": "code",
   "execution_count": 3,
   "metadata": {},
   "outputs": [],
   "source": [
    "#Creating word dictionary\n",
    "def wordDict(file,fileType):\n",
    "    #joing file to the path\n",
    "    file = os.path.join(fileType, file)\n",
    "    \n",
    "    #opening the file and creating bsoup object\n",
    "    theFile= open(file)\n",
    "    xmlSoup = bsoup(theFile,\"lxml\")\n",
    "    \n",
    "    #defining empty dictionary and list\n",
    "    words = []\n",
    "    wordDict={}\n",
    "    \n",
    "    #finding all the words\n",
    "    wordSoup = xmlSoup.find('nite:root')\n",
    "    for word in wordSoup.findAll('w'):\n",
    "        indexList = []\n",
    "        \n",
    "        #Using regex to find the words\n",
    "        index = re.findall('words(\\d+)',dict(word.attrs)['nite:id'])[0]\n",
    "        indexList.append(index)\n",
    "        text = word.text\n",
    "        indexList.append(text)\n",
    "        \n",
    "        #adding words to the list\n",
    "        words.append(indexList)\n",
    "        \n",
    "    #Creating dictionary from the list\n",
    "    wordDict = {t[0]:t[1:] for t in words} \n",
    "    return wordDict\n",
    "\n",
    "#Defining big empty dictionary\n",
    "wordDicts={}\n",
    "\n",
    "#Loop to create big dictionary\n",
    "#looping over all the files in the segments folder\n",
    "for file in os.listdir(theWords):\n",
    "    \n",
    "    #creating key for the segments\n",
    "    file_1 = file[0:9]\n",
    "    #creating big dictionary\n",
    "    wordDicts[file_1]=wordDict(file,theWords)"
   ]
  },
  {
   "cell_type": "markdown",
   "metadata": {},
   "source": [
    "### 4.2  Function to create segment dictionary"
   ]
  },
  {
   "cell_type": "code",
   "execution_count": 4,
   "metadata": {},
   "outputs": [],
   "source": [
    "#function to create dictionary of segments\n",
    "def parseSegments(file,fileType):\n",
    "    \n",
    "    #joing file to the path\n",
    "    file = os.path.join(fileType, file)\n",
    "    \n",
    "    #opening the file and creating bsoup object\n",
    "    theFile= open(file)\n",
    "    xmlSoup = bsoup(theFile,\"lxml\")\n",
    "    \n",
    "    #finding all the segments\n",
    "    segments = xmlSoup.findAll(\"segment\")\n",
    "    \n",
    "    #creating final list which will contain all the segments\n",
    "    finalList=[]\n",
    "    for segment in segments:\n",
    "        #Creating list of current iteration segment\n",
    "        theList=[]\n",
    "        \n",
    "        #getting the href for the child tag\n",
    "        x = segment.find('nite:child').get('href')\n",
    "        \n",
    "        #regular expression to find the start and the end position\n",
    "        w=re.findall(r'.words(\\d*)\\)',x)\n",
    "        \n",
    "        #if lengthpostion was 1\n",
    "        if len(w)==1:\n",
    "            start = w[0]\n",
    "            theList.append(start)\n",
    "        \n",
    "        #if length of position was 2\n",
    "        else:\n",
    "            start = w[0]\n",
    "            end = w[1]\n",
    "            theList.append(start)\n",
    "            theList.append(end)\n",
    "            \n",
    "        #appending to make final list of list    \n",
    "        finalList.append(theList)\n",
    "    \n",
    "    #creating the dictionary\n",
    "    segDict = {t[0]:t[0:] for t in finalList} \n",
    "    return segDict\n",
    "\n",
    "#big empty dictionary       \n",
    "segDict={}\n",
    "\n",
    "#Loop to create big dictionary\n",
    "#looping over all the files in the segments folder\n",
    "for file in os.listdir(theSegments):\n",
    "    \n",
    "    #creating key for the segments\n",
    "    file_1 = file[0:9]\n",
    "    #creating big dictionary\n",
    "    segDict[file_1]=parseSegments(file,theSegments)"
   ]
  },
  {
   "cell_type": "markdown",
   "metadata": {},
   "source": [
    "### 4.3  Function to give segment partitions"
   ]
  },
  {
   "cell_type": "code",
   "execution_count": 5,
   "metadata": {},
   "outputs": [],
   "source": [
    "#Function that creates segments from the start and end\n",
    "def giveSegs(file, start, end,theDict):\n",
    "    \n",
    "    #Condition that gives segments if topic do not cut the segment boundary\n",
    "    if str(start) in theDict[file]:\n",
    "        last = end \n",
    "        i= start\n",
    "        theList=[]\n",
    "        while i <= end:\n",
    "            theList.append(theDict[file][str(i)])\n",
    "            i = int(theDict[file][str(i)][-1]) +1 \n",
    "        return theList\n",
    "    #If topic cut segment boundaries\n",
    "    else:\n",
    "        t=[]\n",
    "        finalList=[]\n",
    "        for items in theDict[file]:\n",
    "            if int(items)< int(start):\n",
    "                t.append(int(items))\n",
    "        t1= theDict[file][str(max(t))][1]\n",
    "        theList1=[int(start),int(t1)]\n",
    "        finalList.append(theList1)\n",
    "        i= int(t1) + 1\n",
    "        last = end\n",
    "        \n",
    "        theList=[]\n",
    "        while i <= end:\n",
    "            theList.append(theDict[file][str(i)])\n",
    "            i = int(theDict[file][str(i)][-1]) +1 \n",
    "        finalList.extend(theList)\n",
    "        return finalList"
   ]
  },
  {
   "cell_type": "markdown",
   "metadata": {},
   "source": [
    "### 4.4  Function to create the transcript"
   ]
  },
  {
   "cell_type": "code",
   "execution_count": 6,
   "metadata": {},
   "outputs": [],
   "source": [
    "#Function to create topic that uses the segment and word functions\n",
    "def parsingTopic(file,fileType):\n",
    "    z=[]\n",
    "    file = os.path.join(fileType, file)\n",
    "    xmlSoup = bsoup(open(file),\"lxml\")\n",
    "    topics = xmlSoup.find(\"nite:root\").find_all('topic',recursive=False)\n",
    "    for t in topics:\n",
    "        z.append(t.find_all(re.compile(r'nite:child')))\n",
    "    bigL=[]\n",
    "    for i in z:\n",
    "        finalWord=[]\n",
    "        for i1 in i:\n",
    "            x= i1.get('href')\n",
    "            m=x[0:9]\n",
    "            m1=x[0:19]\n",
    "            w=re.findall(r'.words(\\d*)\\)',x)\n",
    "            if (len(w)==1):\n",
    "                start= int(w[0])\n",
    "                end = int(w[0])\n",
    "            else:\n",
    "                start = int(w[0])\n",
    "                end = int(w[1])\n",
    "            s=giveSegs(m, start, end,segDict)\n",
    "            z=parsingWord(m,wordDicts,s,end)\n",
    "            finalWord.extend(z)  \n",
    "        stars = ['**********']        \n",
    "        finalWord.extend(stars) \n",
    "        bigL.extend(finalWord)\n",
    "    bigL1=\"\\n\".join(bigL)\n",
    "    return bigL1"
   ]
  },
  {
   "cell_type": "markdown",
   "metadata": {},
   "source": [
    "### 4.5  Function to obtain the words from the dictionary"
   ]
  },
  {
   "cell_type": "code",
   "execution_count": 7,
   "metadata": {},
   "outputs": [],
   "source": [
    "#Function to give the words according to the segments created\n",
    "def parsingWord (file,wordDict,segs,end1):\n",
    "    finalWord = []\n",
    "    test = end1\n",
    "    for items in segs:\n",
    "        word1=''\n",
    "        i = int(items[0])\n",
    "        \n",
    "        \n",
    "        end = int(items[-1])\n",
    "        if end > test:\n",
    "            end = test\n",
    "        while i<=end:\n",
    "            if str(i) in wordDict[file]:\n",
    "                x=wordDict[file][str(i)]\n",
    "                x = ''.join(x)\n",
    "                if len(x)>0:\n",
    "                    word1+=' '+x\n",
    "                else:\n",
    "                    pass\n",
    "            i=i+1\n",
    "        if len(word1)>0:\n",
    "            finalWord.append(word1)\n",
    "    return finalWord"
   ]
  },
  {
   "cell_type": "markdown",
   "metadata": {},
   "source": [
    "## 5. Main body to create text files"
   ]
  },
  {
   "cell_type": "code",
   "execution_count": 8,
   "metadata": {},
   "outputs": [],
   "source": [
    "#Finally passing the function to the main body to create text files\n",
    "for file in os.listdir(theTopics):\n",
    "    finalFile = './txt_files/'+file[:-10]+'.txt'\n",
    "    f = open(finalFile,'w')\n",
    "    f.write(parsingTopic(file,theTopics))\n",
    "    f.close()"
   ]
  },
  {
   "cell_type": "markdown",
   "metadata": {},
   "source": [
    "## 6. Summary\n",
    "1. In this project task, the input files were from three different folders named topic, segments and words.\n",
    "2. Several different approaches were used to create the original meeting transcript.\n",
    "3. The summary of the task is as follows:\n",
    "    - Created a dictionary of word and segments.\n",
    "    - Created a list of segments to parse words properly, where topic cuts off segment the topic boundary was given higher preference.\n",
    "    - Created the meeting transcripts from the text files.\n",
    "4. The final meeting transcript were exported to the relavant topic text files."
   ]
  },
  {
   "cell_type": "code",
   "execution_count": null,
   "metadata": {},
   "outputs": [],
   "source": []
  }
 ],
 "metadata": {
  "kernelspec": {
   "display_name": "Python 3",
   "language": "python",
   "name": "python3"
  },
  "language_info": {
   "codemirror_mode": {
    "name": "ipython",
    "version": 3
   },
   "file_extension": ".py",
   "mimetype": "text/x-python",
   "name": "python",
   "nbconvert_exporter": "python",
   "pygments_lexer": "ipython3",
   "version": "3.6.4"
  }
 },
 "nbformat": 4,
 "nbformat_minor": 2
}
